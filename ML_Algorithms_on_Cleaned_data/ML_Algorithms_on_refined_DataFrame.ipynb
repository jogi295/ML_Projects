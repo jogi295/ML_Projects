{
 "cells": [
  {
   "cell_type": "markdown",
   "id": "71b2c039",
   "metadata": {},
   "source": [
    "# ML_Algorithms_on_refined_DataFrame"
   ]
  },
  {
   "cell_type": "markdown",
   "id": "5ffc727b",
   "metadata": {},
   "source": [
    "#### ML algorithms mostly either fall in classification or regression. \n",
    "#### So apply algorithm and finding best parameter is bit difficult\n",
    "#### run algorithm for all possible parametrs and find the best algorithm and its parameters"
   ]
  },
  {
   "cell_type": "code",
   "execution_count": 1,
   "id": "f99f4763",
   "metadata": {},
   "outputs": [],
   "source": [
    "import numpy as np\n",
    "import pandas as pd\n",
    "import seaborn as sns\n",
    "import matplotlib.pyplot as plt"
   ]
  },
  {
   "cell_type": "code",
   "execution_count": 16,
   "id": "9f6c8fa6",
   "metadata": {},
   "outputs": [],
   "source": [
    "from datetime import datetime\n",
    "import os\n",
    "import pickle"
   ]
  },
  {
   "cell_type": "code",
   "execution_count": 2,
   "id": "ae95e4fd",
   "metadata": {},
   "outputs": [],
   "source": [
    "from sklearn.model_selection import train_test_split\n",
    "from sklearn.preprocessing import MinMaxScaler, StandardScaler\n",
    "from sklearn.model_selection import GridSearchCV, cross_val_score, StratifiedKFold\n",
    "from sklearn.metrics import accuracy_score, f1_score, mean_squared_error, r2_score\n",
    "from sklearn.metrics import classification_report\n",
    "\n",
    "\n",
    "from sklearn.svm import SVC, SVR\n",
    "from sklearn.naive_bayes import GaussianNB\n",
    "from sklearn.ensemble import GradientBoostingClassifier\n",
    "from sklearn.ensemble import RandomForestClassifier, RandomForestRegressor\n",
    "from sklearn.neighbors import KNeighborsClassifier, KNeighborsRegressor\n",
    "from sklearn.linear_model import LogisticRegression, LinearRegression\n",
    "from sklearn.tree import DecisionTreeClassifier, DecisionTreeRegressor\n",
    "from sklearn.neural_network import MLPClassifier, MLPRegressor"
   ]
  },
  {
   "cell_type": "code",
   "execution_count": 3,
   "id": "e22327ac",
   "metadata": {},
   "outputs": [],
   "source": [
    "df = pd.read_csv(\"data/cleaned_data.csv\")"
   ]
  },
  {
   "cell_type": "code",
   "execution_count": 4,
   "id": "b1e7bf34",
   "metadata": {},
   "outputs": [],
   "source": [
    "X = df.drop(columns=['price_range'])\n",
    "y = df['price_range']\n",
    "\n",
    "X_train, X_test, y_train, y_test = train_test_split(X, y, test_size=0.2, random_state=42)"
   ]
  },
  {
   "cell_type": "markdown",
   "id": "bd0621c6",
   "metadata": {},
   "source": [
    "## You can add algorithms into the list as you want\n",
    "## You can experiment with the fine tuning parameters to get best results"
   ]
  },
  {
   "cell_type": "code",
   "execution_count": 17,
   "id": "8b2ba42a",
   "metadata": {},
   "outputs": [],
   "source": [
    "class ModelTrainer:\n",
    "    def __init__(self):\n",
    "        pass\n",
    "    \n",
    "    def save_best_model(self, model, filename):\n",
    "        timestamp = datetime.now().strftime('%d-%m-%y_%H:%M')\n",
    "        folder_path = os.path.join(os.getcwd(), 'Trained_models')\n",
    "        os.makedirs(folder_path, exist_ok=True)\n",
    "\n",
    "        full_path = os.path.join(folder_path, f'{filename}_{timestamp}.pkl')\n",
    "        \n",
    "        with open(full_path, 'wb') as model_file:\n",
    "            pickle.dump(model, model_file)\n",
    "\n",
    "    def test_classification_algorithms(self, X_train, y_train, X_test, y_test, classifiers_to_run=None):\n",
    "        if classifiers_to_run is None:\n",
    "            classifiers_to_run = ['RandomForest', 'SVM', 'KNN', 'LogisticRegression', 'DecisionTree', 'NaiveBayes']\n",
    "\n",
    "        results_df = pd.DataFrame(columns=['Algorithm', 'Parameters', 'Train_Accuracy','Test_Accuracy', 'Test_F1_Score'])\n",
    "\n",
    "        # Set up cross-validation\n",
    "        cv = StratifiedKFold(n_splits=5, shuffle=True, random_state=42)\n",
    "\n",
    "        # Define classification algorithms and their parameter grids\n",
    "        classifiers = {\n",
    "            'DecisionTree': (DecisionTreeClassifier(), {'max_depth': [None, 5, 10]}),\n",
    "            'RandomForest': (RandomForestClassifier(), {'n_estimators': [10, 50, 100]}),\n",
    "            'SVM': (SVC(), {'C': [0.1, 1, 10], 'kernel': ['linear', 'rbf']}),\n",
    "            'KNN': (KNeighborsClassifier(), {'n_neighbors': [3, 5, 7]}),\n",
    "            'LogisticRegression': (LogisticRegression(), {'C': [0.1, 1, 10]}),\n",
    "            'NaiveBayes': (GaussianNB(), {})\n",
    "        }\n",
    "\n",
    "        # Iterate through classifiers, perform grid search, and store results\n",
    "        for name, (classifier, param_grid) in classifiers.items():\n",
    "            if name in classifiers_to_run:\n",
    "                grid_search = GridSearchCV(classifier, param_grid, cv=cv, scoring='accuracy')\n",
    "                grid_search.fit(X_train, y_train)\n",
    "\n",
    "                # Get the best parameters\n",
    "                best_params = grid_search.best_params_\n",
    "                \n",
    "                train_accuracy = accuracy_score(y_train, grid_search.best_estimator_.predict(X_train))\n",
    "\n",
    "                # Evaluate the model on the test set\n",
    "                y_pred = grid_search.best_estimator_.predict(X_test)\n",
    "                test_accuracy = accuracy_score(y_test, y_pred)\n",
    "                test_f1_score = f1_score(y_test, y_pred, average='weighted')\n",
    "\n",
    "                # Store the results in the DataFrame\n",
    "                results_df = pd.concat([results_df, pd.DataFrame({\n",
    "                    'Algorithm': [name],\n",
    "                    'Parameters': [best_params],\n",
    "                    'Train_Accuracy': [train_accuracy],\n",
    "                    'Test_Accuracy': [test_accuracy],\n",
    "                    'Test_F1_Score': [test_f1_score]\n",
    "                })], ignore_index=True)\n",
    "        \n",
    "        results_df.to_csv(f'Trained_models/results.csv', index=False)\n",
    "        best_model = grid_search.best_estimator_\n",
    "        model_trainer.save_best_model(best_model, 'best_model')\n",
    "        return results_df\n",
    "\n",
    "    def test_regression_algorithms(self, X_train, y_train, X_test, y_test, regressors_to_run=None):\n",
    "        if regressors_to_run is None:\n",
    "            regressors_to_run = ['RandomForest', 'SVR', 'KNN', 'LinearRegression', 'DecisionTree']\n",
    "\n",
    "        results_df = pd.DataFrame(columns=['Algorithm', 'Parameters','Train_R2_Score', 'Test_MSE', 'Test_R2_Score'])\n",
    "\n",
    "        # Set up cross-validation\n",
    "        cv = 5  # Use 5-fold cross-validation for regression\n",
    "\n",
    "        # Define regression algorithms and their parameter grids\n",
    "        regressors = {\n",
    "            'RandomForest': (RandomForestRegressor(), {'n_estimators': [10, 50, 100]}),\n",
    "            'SVR': (SVR(), {'C': [0.1, 1, 10], 'kernel': ['linear', 'rbf'], 'epsilon': [0.1, 0.2, 0.3]}),\n",
    "            'KNN': (KNeighborsRegressor(), {'n_neighbors': [3, 5, 7]}),\n",
    "            'LinearRegression': (LinearRegression(), {}),\n",
    "            'DecisionTree': (DecisionTreeRegressor(), {'max_depth': [None, 5, 10]})\n",
    "        }\n",
    "\n",
    "        # Iterate through regressors, perform grid search, and store results\n",
    "        for name, (regressor, param_grid) in regressors.items():\n",
    "            if name in regressors_to_run:\n",
    "                grid_search = GridSearchCV(regressor, param_grid, cv=cv, scoring='neg_mean_squared_error')\n",
    "                grid_search.fit(X_train, y_train)\n",
    "\n",
    "                # Get the best parameters\n",
    "                best_params = grid_search.best_params_\n",
    "                \n",
    "                train_r2_score = r2_score(y_train, grid_search.best_estimator_.predict(X_train))\n",
    "\n",
    "                # Evaluate the model on the test set\n",
    "                y_pred = grid_search.best_estimator_.predict(X_test)\n",
    "                test_mse = mean_squared_error(y_test, y_pred)\n",
    "                test_r2_score = r2_score(y_test, y_pred)\n",
    "\n",
    "                # Store the results in the DataFrame\n",
    "                results_df = pd.concat([results_df, pd.DataFrame({\n",
    "                    'Algorithm': [name],\n",
    "                    'Parameters': [best_params],\n",
    "                    'Train_R2_Score': [train_r2_score],\n",
    "                    'Test_MSE': [test_mse],\n",
    "                    'Test_R2_Score': [test_r2_score]\n",
    "                })], ignore_index=True)\n",
    "\n",
    "        timestamp = pd.to_datetime('today').strftime('%d-%m-%Y_%H-%M')\n",
    "        results_df.to_csv(f'Trained_models/results_{timestamp}.csv', index=False)\n",
    "        return results_df\n",
    "    \n"
   ]
  },
  {
   "cell_type": "code",
   "execution_count": 18,
   "id": "86220827",
   "metadata": {},
   "outputs": [],
   "source": [
    "# Example usage\n",
    "model_trainer = ModelTrainer()\n",
    "\n",
    "# Classification\n",
    "my_classifiers = ['RandomForest', 'SVM', 'DecisionTree']\n",
    "classification_results = model_trainer.test_classification_algorithms(X_train, y_train, X_test, y_test, classifiers_to_run=my_classifiers)"
   ]
  },
  {
   "cell_type": "code",
   "execution_count": 19,
   "id": "09ffc1f3",
   "metadata": {
    "scrolled": true
   },
   "outputs": [
    {
     "data": {
      "text/html": [
       "<div>\n",
       "<style scoped>\n",
       "    .dataframe tbody tr th:only-of-type {\n",
       "        vertical-align: middle;\n",
       "    }\n",
       "\n",
       "    .dataframe tbody tr th {\n",
       "        vertical-align: top;\n",
       "    }\n",
       "\n",
       "    .dataframe thead th {\n",
       "        text-align: right;\n",
       "    }\n",
       "</style>\n",
       "<table border=\"1\" class=\"dataframe\">\n",
       "  <thead>\n",
       "    <tr style=\"text-align: right;\">\n",
       "      <th></th>\n",
       "      <th>Algorithm</th>\n",
       "      <th>Parameters</th>\n",
       "      <th>Train_Accuracy</th>\n",
       "      <th>Test_Accuracy</th>\n",
       "      <th>Test_F1_Score</th>\n",
       "    </tr>\n",
       "  </thead>\n",
       "  <tbody>\n",
       "    <tr>\n",
       "      <th>0</th>\n",
       "      <td>DecisionTree</td>\n",
       "      <td>{'max_depth': 10}</td>\n",
       "      <td>0.994318</td>\n",
       "      <td>0.825758</td>\n",
       "      <td>0.827494</td>\n",
       "    </tr>\n",
       "    <tr>\n",
       "      <th>1</th>\n",
       "      <td>RandomForest</td>\n",
       "      <td>{'n_estimators': 100}</td>\n",
       "      <td>1.000000</td>\n",
       "      <td>0.876263</td>\n",
       "      <td>0.876032</td>\n",
       "    </tr>\n",
       "    <tr>\n",
       "      <th>2</th>\n",
       "      <td>SVM</td>\n",
       "      <td>{'C': 0.1, 'kernel': 'linear'}</td>\n",
       "      <td>0.987374</td>\n",
       "      <td>0.994949</td>\n",
       "      <td>0.994948</td>\n",
       "    </tr>\n",
       "  </tbody>\n",
       "</table>\n",
       "</div>"
      ],
      "text/plain": [
       "      Algorithm                      Parameters  Train_Accuracy  \\\n",
       "0  DecisionTree               {'max_depth': 10}        0.994318   \n",
       "1  RandomForest           {'n_estimators': 100}        1.000000   \n",
       "2           SVM  {'C': 0.1, 'kernel': 'linear'}        0.987374   \n",
       "\n",
       "   Test_Accuracy  Test_F1_Score  \n",
       "0       0.825758       0.827494  \n",
       "1       0.876263       0.876032  \n",
       "2       0.994949       0.994948  "
      ]
     },
     "execution_count": 19,
     "metadata": {},
     "output_type": "execute_result"
    }
   ],
   "source": [
    "classification_results"
   ]
  },
  {
   "cell_type": "code",
   "execution_count": null,
   "id": "9915e7ea",
   "metadata": {},
   "outputs": [],
   "source": []
  },
  {
   "cell_type": "code",
   "execution_count": null,
   "id": "ec18635c",
   "metadata": {},
   "outputs": [],
   "source": []
  }
 ],
 "metadata": {
  "kernelspec": {
   "display_name": "TensorFlow",
   "language": "python",
   "name": "tf_env"
  },
  "language_info": {
   "codemirror_mode": {
    "name": "ipython",
    "version": 3
   },
   "file_extension": ".py",
   "mimetype": "text/x-python",
   "name": "python",
   "nbconvert_exporter": "python",
   "pygments_lexer": "ipython3",
   "version": "3.11.4"
  }
 },
 "nbformat": 4,
 "nbformat_minor": 5
}
